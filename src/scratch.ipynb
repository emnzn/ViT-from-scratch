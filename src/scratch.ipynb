{
 "cells": [
  {
   "cell_type": "code",
   "execution_count": 1,
   "metadata": {},
   "outputs": [
    {
     "name": "stderr",
     "output_type": "stream",
     "text": [
      "/Users/ericmonzon/mambaforge/envs/pytorch/lib/python3.12/site-packages/tqdm/auto.py:21: TqdmWarning: IProgress not found. Please update jupyter and ipywidgets. See https://ipywidgets.readthedocs.io/en/stable/user_install.html\n",
      "  from .autonotebook import tqdm as notebook_tqdm\n"
     ]
    }
   ],
   "source": [
    "import os\n",
    "import torch\n",
    "import math\n",
    "import torchvision\n",
    "import torch.nn as nn\n",
    "from datetime import datetime\n",
    "import torch.nn.functional as F\n",
    "import matplotlib.pyplot as plt\n",
    "from sklearn.metrics import f1_score\n",
    "from torch.utils.data import DataLoader\n",
    "from torchvision.datasets import CIFAR10\n",
    "import torchvision.transforms as transforms\n",
    "from utils import VisionTransformer, get_args, get_model, get_checkpoint"
   ]
  },
  {
   "cell_type": "code",
   "execution_count": 2,
   "metadata": {},
   "outputs": [
    {
     "data": {
      "text/plain": [
       "'07-07-2024-18:02'"
      ]
     },
     "execution_count": 2,
     "metadata": {},
     "output_type": "execute_result"
    }
   ],
   "source": [
    "datetime.now().strftime(\"%m-%d-%Y-%H:%M\") "
   ]
  },
  {
   "cell_type": "code",
   "execution_count": 3,
   "metadata": {},
   "outputs": [
    {
     "data": {
      "text/plain": [
       "{'seed': 42,\n",
       " 'patience': 10,\n",
       " 'img_size': 32,\n",
       " 'variant': 'base',\n",
       " 'batch_size': 20,\n",
       " 'num_classes': 10,\n",
       " 'weight_decay': 0.0001,\n",
       " 'learning_rate': 0.0001,\n",
       " 'dropout_probability': 0.0}"
      ]
     },
     "execution_count": 3,
     "metadata": {},
     "output_type": "execute_result"
    }
   ],
   "source": [
    "args = get_args(os.path.join(\"config\", \"train_config.yaml\"))\n",
    "\n",
    "args"
   ]
  },
  {
   "cell_type": "code",
   "execution_count": 4,
   "metadata": {},
   "outputs": [],
   "source": [
    "model = get_model(\n",
    "        args[\"img_size\"], 4, variant=args[\"variant\"], dropout_probability=0.0, num_classes=10\n",
    "    )"
   ]
  },
  {
   "cell_type": "code",
   "execution_count": 5,
   "metadata": {},
   "outputs": [
    {
     "data": {
      "text/plain": [
       "VisionTransformer(\n",
       "  (patchifier): Patchifier(\n",
       "    (proj): Conv2d(3, 768, kernel_size=(4, 4), stride=(4, 4))\n",
       "  )\n",
       "  (position_encoder): PositionEncoder(\n",
       "    (dropout): Dropout(p=0.0, inplace=False)\n",
       "  )\n",
       "  (encoder): Encoder(\n",
       "    (0): TransformerEncoder(\n",
       "      (multihead_attention): MultiHeadAttention(\n",
       "        (q_w): Linear(in_features=768, out_features=768, bias=True)\n",
       "        (k_w): Linear(in_features=768, out_features=768, bias=True)\n",
       "        (v_w): Linear(in_features=768, out_features=768, bias=True)\n",
       "        (fc): Linear(in_features=768, out_features=768, bias=True)\n",
       "      )\n",
       "      (layer_norm): LayerNorm((768,), eps=1e-05, elementwise_affine=True)\n",
       "      (mlp): MLP(\n",
       "        (0): Linear(in_features=768, out_features=3072, bias=True)\n",
       "        (1): Dropout(p=0.0, inplace=False)\n",
       "        (2): GELU(approximate='none')\n",
       "        (3): Linear(in_features=3072, out_features=768, bias=True)\n",
       "        (4): Dropout(p=0.0, inplace=False)\n",
       "      )\n",
       "    )\n",
       "    (1): TransformerEncoder(\n",
       "      (multihead_attention): MultiHeadAttention(\n",
       "        (q_w): Linear(in_features=768, out_features=768, bias=True)\n",
       "        (k_w): Linear(in_features=768, out_features=768, bias=True)\n",
       "        (v_w): Linear(in_features=768, out_features=768, bias=True)\n",
       "        (fc): Linear(in_features=768, out_features=768, bias=True)\n",
       "      )\n",
       "      (layer_norm): LayerNorm((768,), eps=1e-05, elementwise_affine=True)\n",
       "      (mlp): MLP(\n",
       "        (0): Linear(in_features=768, out_features=3072, bias=True)\n",
       "        (1): Dropout(p=0.0, inplace=False)\n",
       "        (2): GELU(approximate='none')\n",
       "        (3): Linear(in_features=3072, out_features=768, bias=True)\n",
       "        (4): Dropout(p=0.0, inplace=False)\n",
       "      )\n",
       "    )\n",
       "    (2): TransformerEncoder(\n",
       "      (multihead_attention): MultiHeadAttention(\n",
       "        (q_w): Linear(in_features=768, out_features=768, bias=True)\n",
       "        (k_w): Linear(in_features=768, out_features=768, bias=True)\n",
       "        (v_w): Linear(in_features=768, out_features=768, bias=True)\n",
       "        (fc): Linear(in_features=768, out_features=768, bias=True)\n",
       "      )\n",
       "      (layer_norm): LayerNorm((768,), eps=1e-05, elementwise_affine=True)\n",
       "      (mlp): MLP(\n",
       "        (0): Linear(in_features=768, out_features=3072, bias=True)\n",
       "        (1): Dropout(p=0.0, inplace=False)\n",
       "        (2): GELU(approximate='none')\n",
       "        (3): Linear(in_features=3072, out_features=768, bias=True)\n",
       "        (4): Dropout(p=0.0, inplace=False)\n",
       "      )\n",
       "    )\n",
       "    (3): TransformerEncoder(\n",
       "      (multihead_attention): MultiHeadAttention(\n",
       "        (q_w): Linear(in_features=768, out_features=768, bias=True)\n",
       "        (k_w): Linear(in_features=768, out_features=768, bias=True)\n",
       "        (v_w): Linear(in_features=768, out_features=768, bias=True)\n",
       "        (fc): Linear(in_features=768, out_features=768, bias=True)\n",
       "      )\n",
       "      (layer_norm): LayerNorm((768,), eps=1e-05, elementwise_affine=True)\n",
       "      (mlp): MLP(\n",
       "        (0): Linear(in_features=768, out_features=3072, bias=True)\n",
       "        (1): Dropout(p=0.0, inplace=False)\n",
       "        (2): GELU(approximate='none')\n",
       "        (3): Linear(in_features=3072, out_features=768, bias=True)\n",
       "        (4): Dropout(p=0.0, inplace=False)\n",
       "      )\n",
       "    )\n",
       "    (4): TransformerEncoder(\n",
       "      (multihead_attention): MultiHeadAttention(\n",
       "        (q_w): Linear(in_features=768, out_features=768, bias=True)\n",
       "        (k_w): Linear(in_features=768, out_features=768, bias=True)\n",
       "        (v_w): Linear(in_features=768, out_features=768, bias=True)\n",
       "        (fc): Linear(in_features=768, out_features=768, bias=True)\n",
       "      )\n",
       "      (layer_norm): LayerNorm((768,), eps=1e-05, elementwise_affine=True)\n",
       "      (mlp): MLP(\n",
       "        (0): Linear(in_features=768, out_features=3072, bias=True)\n",
       "        (1): Dropout(p=0.0, inplace=False)\n",
       "        (2): GELU(approximate='none')\n",
       "        (3): Linear(in_features=3072, out_features=768, bias=True)\n",
       "        (4): Dropout(p=0.0, inplace=False)\n",
       "      )\n",
       "    )\n",
       "    (5): TransformerEncoder(\n",
       "      (multihead_attention): MultiHeadAttention(\n",
       "        (q_w): Linear(in_features=768, out_features=768, bias=True)\n",
       "        (k_w): Linear(in_features=768, out_features=768, bias=True)\n",
       "        (v_w): Linear(in_features=768, out_features=768, bias=True)\n",
       "        (fc): Linear(in_features=768, out_features=768, bias=True)\n",
       "      )\n",
       "      (layer_norm): LayerNorm((768,), eps=1e-05, elementwise_affine=True)\n",
       "      (mlp): MLP(\n",
       "        (0): Linear(in_features=768, out_features=3072, bias=True)\n",
       "        (1): Dropout(p=0.0, inplace=False)\n",
       "        (2): GELU(approximate='none')\n",
       "        (3): Linear(in_features=3072, out_features=768, bias=True)\n",
       "        (4): Dropout(p=0.0, inplace=False)\n",
       "      )\n",
       "    )\n",
       "    (6): TransformerEncoder(\n",
       "      (multihead_attention): MultiHeadAttention(\n",
       "        (q_w): Linear(in_features=768, out_features=768, bias=True)\n",
       "        (k_w): Linear(in_features=768, out_features=768, bias=True)\n",
       "        (v_w): Linear(in_features=768, out_features=768, bias=True)\n",
       "        (fc): Linear(in_features=768, out_features=768, bias=True)\n",
       "      )\n",
       "      (layer_norm): LayerNorm((768,), eps=1e-05, elementwise_affine=True)\n",
       "      (mlp): MLP(\n",
       "        (0): Linear(in_features=768, out_features=3072, bias=True)\n",
       "        (1): Dropout(p=0.0, inplace=False)\n",
       "        (2): GELU(approximate='none')\n",
       "        (3): Linear(in_features=3072, out_features=768, bias=True)\n",
       "        (4): Dropout(p=0.0, inplace=False)\n",
       "      )\n",
       "    )\n",
       "    (7): TransformerEncoder(\n",
       "      (multihead_attention): MultiHeadAttention(\n",
       "        (q_w): Linear(in_features=768, out_features=768, bias=True)\n",
       "        (k_w): Linear(in_features=768, out_features=768, bias=True)\n",
       "        (v_w): Linear(in_features=768, out_features=768, bias=True)\n",
       "        (fc): Linear(in_features=768, out_features=768, bias=True)\n",
       "      )\n",
       "      (layer_norm): LayerNorm((768,), eps=1e-05, elementwise_affine=True)\n",
       "      (mlp): MLP(\n",
       "        (0): Linear(in_features=768, out_features=3072, bias=True)\n",
       "        (1): Dropout(p=0.0, inplace=False)\n",
       "        (2): GELU(approximate='none')\n",
       "        (3): Linear(in_features=3072, out_features=768, bias=True)\n",
       "        (4): Dropout(p=0.0, inplace=False)\n",
       "      )\n",
       "    )\n",
       "    (8): TransformerEncoder(\n",
       "      (multihead_attention): MultiHeadAttention(\n",
       "        (q_w): Linear(in_features=768, out_features=768, bias=True)\n",
       "        (k_w): Linear(in_features=768, out_features=768, bias=True)\n",
       "        (v_w): Linear(in_features=768, out_features=768, bias=True)\n",
       "        (fc): Linear(in_features=768, out_features=768, bias=True)\n",
       "      )\n",
       "      (layer_norm): LayerNorm((768,), eps=1e-05, elementwise_affine=True)\n",
       "      (mlp): MLP(\n",
       "        (0): Linear(in_features=768, out_features=3072, bias=True)\n",
       "        (1): Dropout(p=0.0, inplace=False)\n",
       "        (2): GELU(approximate='none')\n",
       "        (3): Linear(in_features=3072, out_features=768, bias=True)\n",
       "        (4): Dropout(p=0.0, inplace=False)\n",
       "      )\n",
       "    )\n",
       "    (9): TransformerEncoder(\n",
       "      (multihead_attention): MultiHeadAttention(\n",
       "        (q_w): Linear(in_features=768, out_features=768, bias=True)\n",
       "        (k_w): Linear(in_features=768, out_features=768, bias=True)\n",
       "        (v_w): Linear(in_features=768, out_features=768, bias=True)\n",
       "        (fc): Linear(in_features=768, out_features=768, bias=True)\n",
       "      )\n",
       "      (layer_norm): LayerNorm((768,), eps=1e-05, elementwise_affine=True)\n",
       "      (mlp): MLP(\n",
       "        (0): Linear(in_features=768, out_features=3072, bias=True)\n",
       "        (1): Dropout(p=0.0, inplace=False)\n",
       "        (2): GELU(approximate='none')\n",
       "        (3): Linear(in_features=3072, out_features=768, bias=True)\n",
       "        (4): Dropout(p=0.0, inplace=False)\n",
       "      )\n",
       "    )\n",
       "    (10): TransformerEncoder(\n",
       "      (multihead_attention): MultiHeadAttention(\n",
       "        (q_w): Linear(in_features=768, out_features=768, bias=True)\n",
       "        (k_w): Linear(in_features=768, out_features=768, bias=True)\n",
       "        (v_w): Linear(in_features=768, out_features=768, bias=True)\n",
       "        (fc): Linear(in_features=768, out_features=768, bias=True)\n",
       "      )\n",
       "      (layer_norm): LayerNorm((768,), eps=1e-05, elementwise_affine=True)\n",
       "      (mlp): MLP(\n",
       "        (0): Linear(in_features=768, out_features=3072, bias=True)\n",
       "        (1): Dropout(p=0.0, inplace=False)\n",
       "        (2): GELU(approximate='none')\n",
       "        (3): Linear(in_features=3072, out_features=768, bias=True)\n",
       "        (4): Dropout(p=0.0, inplace=False)\n",
       "      )\n",
       "    )\n",
       "    (11): TransformerEncoder(\n",
       "      (multihead_attention): MultiHeadAttention(\n",
       "        (q_w): Linear(in_features=768, out_features=768, bias=True)\n",
       "        (k_w): Linear(in_features=768, out_features=768, bias=True)\n",
       "        (v_w): Linear(in_features=768, out_features=768, bias=True)\n",
       "        (fc): Linear(in_features=768, out_features=768, bias=True)\n",
       "      )\n",
       "      (layer_norm): LayerNorm((768,), eps=1e-05, elementwise_affine=True)\n",
       "      (mlp): MLP(\n",
       "        (0): Linear(in_features=768, out_features=3072, bias=True)\n",
       "        (1): Dropout(p=0.0, inplace=False)\n",
       "        (2): GELU(approximate='none')\n",
       "        (3): Linear(in_features=3072, out_features=768, bias=True)\n",
       "        (4): Dropout(p=0.0, inplace=False)\n",
       "      )\n",
       "    )\n",
       "  )\n",
       "  (layer_norm): LayerNorm((768,), eps=1e-05, elementwise_affine=True)\n",
       "  (classification_head): Linear(in_features=768, out_features=10, bias=True)\n",
       ")"
      ]
     },
     "execution_count": 5,
     "metadata": {},
     "output_type": "execute_result"
    }
   ],
   "source": [
    "model"
   ]
  },
  {
   "cell_type": "code",
   "execution_count": 6,
   "metadata": {},
   "outputs": [
    {
     "name": "stdout",
     "output_type": "stream",
     "text": [
      "Files already downloaded and verified\n",
      "Files already downloaded and verified\n"
     ]
    }
   ],
   "source": [
    "dest = os.path.join(\"..\", \"data\")\n",
    "\n",
    "transform = transforms.Compose(\n",
    "        [\n",
    "            transforms.ToTensor(),\n",
    "            transforms.Normalize((0.5, 0.5, 0.5), (0.5, 0.5, 0.5))\n",
    "        ]\n",
    "    )\n",
    "\n",
    "train = CIFAR10(root=dest, train=True, download=True, transform=transform)\n",
    "test = CIFAR10(root=dest, train=False, download=True, transform=transform)\n",
    "\n",
    "classes = ('plane', 'car', 'bird', 'cat',\n",
    "           'deer', 'dog', 'frog', 'horse', 'ship', 'truck')"
   ]
  },
  {
   "cell_type": "code",
   "execution_count": 7,
   "metadata": {},
   "outputs": [],
   "source": [
    "args_path = os.path.join(\"config\", \"train_config.yaml\")\n",
    "args = get_args(args_path)"
   ]
  },
  {
   "cell_type": "code",
   "execution_count": 8,
   "metadata": {},
   "outputs": [],
   "source": [
    "train_loader = DataLoader(train, batch_size=5, shuffle=True)\n",
    "val_loader = DataLoader(test, batch_size=5, shuffle=False)"
   ]
  },
  {
   "cell_type": "code",
   "execution_count": 9,
   "metadata": {},
   "outputs": [],
   "source": [
    "patchifier = model.patchifier"
   ]
  },
  {
   "cell_type": "code",
   "execution_count": 10,
   "metadata": {},
   "outputs": [],
   "source": [
    "img, label = next(iter(train_loader))"
   ]
  },
  {
   "cell_type": "code",
   "execution_count": 11,
   "metadata": {},
   "outputs": [],
   "source": [
    "test_img = img[0]\n",
    "\n",
    "patchified = patchifier(img)"
   ]
  },
  {
   "cell_type": "code",
   "execution_count": 12,
   "metadata": {},
   "outputs": [
    {
     "data": {
      "text/plain": [
       "torch.Size([5, 3, 32, 32])"
      ]
     },
     "execution_count": 12,
     "metadata": {},
     "output_type": "execute_result"
    }
   ],
   "source": [
    "img.shape"
   ]
  },
  {
   "cell_type": "code",
   "execution_count": 13,
   "metadata": {},
   "outputs": [
    {
     "data": {
      "text/plain": [
       "torch.Size([5, 65, 768])"
      ]
     },
     "execution_count": 13,
     "metadata": {},
     "output_type": "execute_result"
    }
   ],
   "source": [
    "patchified.shape"
   ]
  },
  {
   "cell_type": "code",
   "execution_count": 14,
   "metadata": {},
   "outputs": [],
   "source": [
    "position_encoder = model.position_encoder\n",
    "\n",
    "position_encoding = position_encoder.get_position_encoding() "
   ]
  },
  {
   "cell_type": "code",
   "execution_count": 15,
   "metadata": {},
   "outputs": [
    {
     "data": {
      "text/plain": [
       "torch.Size([5, 65, 768])"
      ]
     },
     "execution_count": 15,
     "metadata": {},
     "output_type": "execute_result"
    }
   ],
   "source": [
    "combined_embedding = position_encoder(patchified)\n",
    "\n",
    "combined_embedding.shape"
   ]
  },
  {
   "cell_type": "code",
   "execution_count": 16,
   "metadata": {},
   "outputs": [
    {
     "data": {
      "text/plain": [
       "<matplotlib.image.AxesImage at 0x297b29ee0>"
      ]
     },
     "execution_count": 16,
     "metadata": {},
     "output_type": "execute_result"
    },
    {
     "data": {
      "image/png": "[encoded data removed]",
      "text/plain": [
       "<Figure size 1600x200 with 1 Axes>"
      ]
     },
     "metadata": {},
     "output_type": "display_data"
    }
   ],
   "source": [
    "plt.matshow(position_encoding)"
   ]
  },
  {
   "cell_type": "code",
   "execution_count": 17,
   "metadata": {},
   "outputs": [
    {
     "data": {
      "text/plain": [
       "torch.Size([5, 65, 768])"
      ]
     },
     "execution_count": 17,
     "metadata": {},
     "output_type": "execute_result"
    }
   ],
   "source": [
    "encoder = model.encoder\n",
    "\n",
    "encoder(patchified).shape"
   ]
  },
  {
   "cell_type": "code",
   "execution_count": 18,
   "metadata": {},
   "outputs": [
    {
     "data": {
      "text/plain": [
       "torch.Size([5, 10])"
      ]
     },
     "execution_count": 18,
     "metadata": {},
     "output_type": "execute_result"
    }
   ],
   "source": [
    "logits = model(img)\n",
    "\n",
    "logits.shape"
   ]
  },
  {
   "cell_type": "code",
   "execution_count": 19,
   "metadata": {},
   "outputs": [],
   "source": [
    "criterion = nn.CrossEntropyLoss()"
   ]
  },
  {
   "cell_type": "code",
   "execution_count": 20,
   "metadata": {},
   "outputs": [
    {
     "data": {
      "text/plain": [
       "tensor(3.2268, grad_fn=<NllLossBackward0>)"
      ]
     },
     "execution_count": 20,
     "metadata": {},
     "output_type": "execute_result"
    }
   ],
   "source": [
    "criterion(logits, label)"
   ]
  },
  {
   "cell_type": "code",
   "execution_count": 21,
   "metadata": {},
   "outputs": [
    {
     "data": {
      "text/plain": [
       "torch.Size([5])"
      ]
     },
     "execution_count": 21,
     "metadata": {},
     "output_type": "execute_result"
    }
   ],
   "source": [
    "label.shape"
   ]
  },
  {
   "cell_type": "code",
   "execution_count": 22,
   "metadata": {},
   "outputs": [
    {
     "data": {
      "text/plain": [
       "tensor([0, 1, 4, 3, 4])"
      ]
     },
     "execution_count": 22,
     "metadata": {},
     "output_type": "execute_result"
    }
   ],
   "source": [
    "label"
   ]
  },
  {
   "cell_type": "code",
   "execution_count": 23,
   "metadata": {},
   "outputs": [
    {
     "data": {
      "text/plain": [
       "torch.Size([5, 10])"
      ]
     },
     "execution_count": 23,
     "metadata": {},
     "output_type": "execute_result"
    }
   ],
   "source": [
    "confidence = F.softmax(logits, dim=1)\n",
    "\n",
    "confidence.shape"
   ]
  },
  {
   "cell_type": "code",
   "execution_count": 24,
   "metadata": {},
   "outputs": [],
   "source": [
    "pred = torch.argmax(confidence, dim=1)"
   ]
  },
  {
   "cell_type": "code",
   "execution_count": 25,
   "metadata": {},
   "outputs": [
    {
     "data": {
      "text/plain": [
       "numpy.float64"
      ]
     },
     "execution_count": 25,
     "metadata": {},
     "output_type": "execute_result"
    }
   ],
   "source": [
    "type(f1_score(label, pred, average=\"macro\"))"
   ]
  },
  {
   "cell_type": "code",
   "execution_count": 26,
   "metadata": {},
   "outputs": [
    {
     "data": {
      "text/plain": [
       "torch.Tensor"
      ]
     },
     "execution_count": 26,
     "metadata": {},
     "output_type": "execute_result"
    }
   ],
   "source": [
    "type(label)"
   ]
  },
  {
   "cell_type": "code",
   "execution_count": 27,
   "metadata": {},
   "outputs": [
    {
     "data": {
      "text/plain": [
       "torch.Tensor"
      ]
     },
     "execution_count": 27,
     "metadata": {},
     "output_type": "execute_result"
    }
   ],
   "source": [
    "type(pred)"
   ]
  },
  {
   "cell_type": "code",
   "execution_count": 28,
   "metadata": {},
   "outputs": [
    {
     "data": {
      "text/plain": [
       "tensor([2, 5, 2, 2, 2])"
      ]
     },
     "execution_count": 28,
     "metadata": {},
     "output_type": "execute_result"
    }
   ],
   "source": [
    "pred\n"
   ]
  },
  {
   "cell_type": "code",
   "execution_count": 29,
   "metadata": {},
   "outputs": [
    {
     "data": {
      "text/plain": [
       "10000"
      ]
     },
     "execution_count": 29,
     "metadata": {},
     "output_type": "execute_result"
    }
   ],
   "source": [
    "len(test)"
   ]
  },
  {
   "cell_type": "code",
   "execution_count": 30,
   "metadata": {},
   "outputs": [
    {
     "data": {
      "text/plain": [
       "50000"
      ]
     },
     "execution_count": 30,
     "metadata": {},
     "output_type": "execute_result"
    }
   ],
   "source": [
    "len(train)"
   ]
  },
  {
   "cell_type": "code",
   "execution_count": 32,
   "metadata": {},
   "outputs": [],
   "source": [
    "optimizer = torch.optim.Adam(model.parameters(), lr=1e-4)\n",
    "scheduler = torch.optim.lr_scheduler.ReduceLROnPlateau(optimizer, mode=\"min\")"
   ]
  },
  {
   "cell_type": "code",
   "execution_count": 34,
   "metadata": {},
   "outputs": [],
   "source": [
    "checkpoint = get_checkpoint(10, model, optimizer, scheduler)"
   ]
  },
  {
   "cell_type": "code",
   "execution_count": 35,
   "metadata": {},
   "outputs": [],
   "source": [
    "torch.save(checkpoint, \"test.pth\")"
   ]
  },
  {
   "cell_type": "code",
   "execution_count": 37,
   "metadata": {},
   "outputs": [],
   "source": [
    "test_ckpt = torch.load(\"test.pth\")"
   ]
  },
  {
   "cell_type": "code",
   "execution_count": null,
   "metadata": {},
   "outputs": [],
   "source": []
  }
 ],
 "metadata": {
  "kernelspec": {
   "display_name": "Python 3",
   "language": "python",
   "name": "python3"
  },
  "language_info": {
   "codemirror_mode": {
    "name": "ipython",
    "version": 3
   },
   "file_extension": ".py",
   "mimetype": "text/x-python",
   "name": "python",
   "nbconvert_exporter": "python",
   "pygments_lexer": "ipython3",
   "version": "3.12.2"
  }
 },
 "nbformat": 4,
 "nbformat_minor": 2
}
