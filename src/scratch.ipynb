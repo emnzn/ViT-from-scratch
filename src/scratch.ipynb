{
 "cells": [
  {
   "cell_type": "code",
   "execution_count": 1,
   "metadata": {},
   "outputs": [
    {
     "name": "stderr",
     "output_type": "stream",
     "text": [
      "/Users/ericmonzon/mambaforge/envs/pytorch/lib/python3.12/site-packages/tqdm/auto.py:21: TqdmWarning: IProgress not found. Please update jupyter and ipywidgets. See https://ipywidgets.readthedocs.io/en/stable/user_install.html\n",
      "  from .autonotebook import tqdm as notebook_tqdm\n"
     ]
    }
   ],
   "source": [
    "import os\n",
    "import torch\n",
    "import math\n",
    "import torchvision\n",
    "import torch.nn as nn\n",
    "import torch.nn.functional as F\n",
    "import matplotlib.pyplot as plt\n",
    "from torch.utils.data import DataLoader\n",
    "from torchvision.datasets import CIFAR10\n",
    "import torchvision.transforms as transforms"
   ]
  },
  {
   "cell_type": "code",
   "execution_count": 2,
   "metadata": {},
   "outputs": [
    {
     "name": "stdout",
     "output_type": "stream",
     "text": [
      "Files already downloaded and verified\n",
      "Files already downloaded and verified\n"
     ]
    }
   ],
   "source": [
    "dest = os.path.join(\"..\", \"data\")\n",
    "\n",
    "transform = transforms.Compose(\n",
    "        [\n",
    "            transforms.ToTensor(),\n",
    "            transforms.Normalize((0.5, 0.5, 0.5), (0.5, 0.5, 0.5))\n",
    "        ]\n",
    "    )\n",
    "\n",
    "train = CIFAR10(root=dest, train=True, download=True, transform=transform)\n",
    "test = CIFAR10(root=dest, train=False, download=True, transform=transform)\n",
    "\n",
    "classes = ('plane', 'car', 'bird', 'cat',\n",
    "           'deer', 'dog', 'frog', 'horse', 'ship', 'truck')"
   ]
  },
  {
   "cell_type": "code",
   "execution_count": 3,
   "metadata": {},
   "outputs": [],
   "source": [
    "train_loader = DataLoader(train, batch_size=5, shuffle=True)\n",
    "val_loader = DataLoader(test, batch_size=5, shuffle=False)"
   ]
  },
  {
   "cell_type": "code",
   "execution_count": 4,
   "metadata": {},
   "outputs": [],
   "source": [
    "patch_size = 4\n",
    "num_channels = 3\n",
    "embed_dim = 512"
   ]
  },
  {
   "cell_type": "code",
   "execution_count": 5,
   "metadata": {},
   "outputs": [],
   "source": [
    "class Patchifier(nn.Module):\n",
    "    \"\"\"\n",
    "    A class to patchify the input image.\n",
    "\n",
    "    Parameters\n",
    "    ----------\n",
    "    patch_size: int\n",
    "        The size of each patch.\n",
    "\n",
    "    num_channels: int\n",
    "        The number of channels in the input image.\n",
    "\n",
    "    embed_dim: int\n",
    "        The dimensions of the output embedding\n",
    "\n",
    "    Returns\n",
    "    -------\n",
    "    x: torch.Tensor\n",
    "        The flattened sequence of patches projected through \n",
    "        a linear transformation combined with the special CLS token.\n",
    "    \"\"\"\n",
    "\n",
    "    def __init__(self, patch_size: int, num_channels: int, embed_dim: int) -> torch.Tensor:\n",
    "        super(Patchifier, self).__init__()\n",
    "\n",
    "        self.patch_size = patch_size\n",
    "        self.embed_dim = embed_dim\n",
    "\n",
    "        self.proj = nn.Conv2d(\n",
    "            num_channels, embed_dim, kernel_size=patch_size, stride=patch_size\n",
    "            )\n",
    "\n",
    "        self.cls_token = nn.Parameter(torch.randn(1, 1, self.embed_dim))\n",
    "\n",
    "    def forward(self, img):\n",
    "        batch_size = img.shape[0]\n",
    "\n",
    "        linear_projection = self.proj(img)\n",
    "        linear_projection = linear_projection.flatten(-2).permute(0, 2, 1)\n",
    "        \n",
    "        cls_token = self.cls_token.expand(batch_size, -1, -1) \n",
    "        x = torch.cat([cls_token, linear_projection], dim=1)\n",
    "\n",
    "        return x"
   ]
  },
  {
   "cell_type": "code",
   "execution_count": 6,
   "metadata": {},
   "outputs": [],
   "source": [
    "patchifier = Patchifier(patch_size, num_channels, embed_dim)"
   ]
  },
  {
   "cell_type": "code",
   "execution_count": 7,
   "metadata": {},
   "outputs": [],
   "source": [
    "img, label = next(iter(train_loader))"
   ]
  },
  {
   "cell_type": "code",
   "execution_count": 8,
   "metadata": {},
   "outputs": [],
   "source": [
    "test_img = img[0]\n",
    "# print(test_img.shape)\n",
    "\n",
    "patchified = patchifier(img)"
   ]
  },
  {
   "cell_type": "code",
   "execution_count": 9,
   "metadata": {},
   "outputs": [
    {
     "data": {
      "text/plain": [
       "torch.Size([5, 65, 512])"
      ]
     },
     "execution_count": 9,
     "metadata": {},
     "output_type": "execute_result"
    }
   ],
   "source": [
    "patchified.shape"
   ]
  },
  {
   "cell_type": "code",
   "execution_count": 10,
   "metadata": {},
   "outputs": [],
   "source": [
    "# (N, P, E)\n",
    "\n",
    "class PositionEncoder(nn.Module):\n",
    "    \"\"\"\n",
    "    The position encoder to combine a position embedding to an input sequence.\n",
    "\n",
    "    Parameters\n",
    "    ----------\n",
    "    sequence_len: int\n",
    "        The length of the input sequence, i.e., the number of image patches.\n",
    "\n",
    "    embed_dim: int\n",
    "        The dimension of the output embedding.\n",
    "\n",
    "    dropout_probability: float\n",
    "        The probability of dropout for the combined representation from the initial\n",
    "        linear projection and positional encoding.\n",
    "\n",
    "    Returns\n",
    "    -------\n",
    "    combined_embedding: torch.Tensor\n",
    "        The input embedding combined with the positional embedding.\n",
    "    \"\"\"\n",
    "    def __init__(self, sequence_len: int, embed_dim: int, dropout_probability: float) -> torch.Tensor:\n",
    "        super(PositionEncoder, self).__init__()\n",
    "\n",
    "        assert embed_dim % 2 == 0, \"Ensure embedding length is even for convenience and efficiency\"\n",
    "\n",
    "        self.sequence_len = sequence_len\n",
    "        self.embed_dim = embed_dim\n",
    "        self.position_encoding = self.get_position_encoding()\n",
    "\n",
    "        self.dropout = nn.Dropout(p=dropout_probability)\n",
    "\n",
    "    def get_position_encoding(self):\n",
    "        max_iter = self.embed_dim // 2\n",
    "        pos = torch.arange(self.sequence_len, dtype=torch.float).unsqueeze(1)\n",
    "\n",
    "        i = torch.arange(max_iter, dtype=torch.float)\n",
    "\n",
    "        angle_rates = 1 / (torch.pow(10_000, (2 * i) / self.embed_dim)).unsqueeze(0)\n",
    "        x = pos * angle_rates\n",
    "\n",
    "        sin_pe = torch.sin(x)\n",
    "        cos_pe = torch.cos(x)\n",
    "\n",
    "        position_encoding = torch.zeros(self.sequence_len, self.embed_dim)\n",
    "        position_encoding[:, 0::2] = sin_pe\n",
    "        position_encoding[:, 1::2] = cos_pe\n",
    "\n",
    "        return position_encoding\n",
    "\n",
    "    def forward(self, x):\n",
    "        position_encoding = self.position_encoding.unsqueeze(0)\n",
    "        combined_embedding = x + position_encoding\n",
    "        combined_embedding = self.dropout(combined_embedding)\n",
    "\n",
    "        return combined_embedding"
   ]
  },
  {
   "cell_type": "code",
   "execution_count": 11,
   "metadata": {},
   "outputs": [],
   "source": [
    "pe = PositionEncoder(65, 512, 0)\n",
    "\n",
    "position_encoding = pe.get_position_encoding() "
   ]
  },
  {
   "cell_type": "code",
   "execution_count": 12,
   "metadata": {},
   "outputs": [
    {
     "data": {
      "text/plain": [
       "torch.Size([5, 65, 512])"
      ]
     },
     "execution_count": 12,
     "metadata": {},
     "output_type": "execute_result"
    }
   ],
   "source": [
    "combined_embedding = pe(patchified)\n",
    "\n",
    "combined_embedding.shape"
   ]
  },
  {
   "cell_type": "code",
   "execution_count": 13,
   "metadata": {},
   "outputs": [
    {
     "data": {
      "text/plain": [
       "<matplotlib.image.AxesImage at 0x157bc97f0>"
      ]
     },
     "execution_count": 13,
     "metadata": {},
     "output_type": "execute_result"
    },
    {
     "data": {
      "image/png": "[encoded data removed]",
      "text/plain": [
       "<Figure size 1600x203.125 with 1 Axes>"
      ]
     },
     "metadata": {},
     "output_type": "display_data"
    }
   ],
   "source": [
    "plt.matshow(position_encoding)"
   ]
  },
  {
   "cell_type": "code",
   "execution_count": 14,
   "metadata": {},
   "outputs": [],
   "source": [
    "class MultiHeadAttention(nn.Module):\n",
    "    \"\"\"\n",
    "    Takes in a tensor of shape (batch size, sequence length, embedding dimension) and returns the attention-informed embedding.\n",
    "\n",
    "    Parameters\n",
    "    ----------\n",
    "    num_heads: int\n",
    "        The number of attention heads to employ.\n",
    "\n",
    "    sequence_length: int\n",
    "        The length of the sequence, i.e., the number of image patches.\n",
    "\n",
    "    embed_dim: int\n",
    "        The output embedding dimension of the attention module.\n",
    "\n",
    "    Returns\n",
    "    -------\n",
    "    final_representation: torch.Tensor\n",
    "        The attention weighted representation of the model for each sequence/image patch.\n",
    "\n",
    "    Attributes\n",
    "    ----------\n",
    "    head_dim: int\n",
    "        The output dimension of each attention head.\n",
    "\n",
    "    q_w: nn.Linear\n",
    "        The linear transformation weights for the query vector.\n",
    "\n",
    "    k_w: nn.Linear\n",
    "        The linear transformation weights for the key vector.\n",
    "\n",
    "    v_w: nn.Linear\n",
    "        The linear transformation weights for the value vector.\n",
    "    \"\"\"\n",
    "\n",
    "    def __init__(self, num_heads: int, sequence_length: int, embed_dim: int) -> torch.Tensor:\n",
    "        super(MultiHeadAttention, self).__init__()\n",
    "        \n",
    "        assert embed_dim % num_heads == 0, \"embedding dimension must be divisible by the number of attention heads\"\n",
    "\n",
    "        self.num_heads = num_heads\n",
    "        self.sequence_length = sequence_length\n",
    "        self.embed_dim = embed_dim\n",
    "        self.head_dim = embed_dim // num_heads\n",
    "\n",
    "        self.q_w = nn.Linear(embed_dim, embed_dim)\n",
    "        self.k_w = nn.Linear(embed_dim, embed_dim)\n",
    "        self.v_w = nn.Linear(embed_dim, embed_dim)\n",
    "        self.fc = nn.Linear(embed_dim, embed_dim)\n",
    "\n",
    "    def forward(self, x):\n",
    "        batch_size = x.shape[0]\n",
    "\n",
    "        v = self.v_w(x).reshape(batch_size, self.sequence_length, self.num_heads, self.head_dim).transpose(1, 2)\n",
    "        q = self.q_w(x).reshape(batch_size, self.sequence_length, self.num_heads, self.head_dim).transpose(1, 2)\n",
    "        k = self.k_w(x).reshape(batch_size, self.sequence_length, self.num_heads, self.head_dim).transpose(1, 2)\n",
    "\n",
    "        attention_scores = torch.matmul(q, k.transpose(-1, -2)) / (self.head_dim ** 0.5)\n",
    "        attention_weights = F.softmax(attention_scores, dim=-1)\n",
    "        \n",
    "        attention_embedding = torch.matmul(attention_weights, v)\n",
    "\n",
    "        combined_heads = attention_embedding.transpose(1, 2).reshape(batch_size, self.sequence_length, self.embed_dim)\n",
    "\n",
    "        final_representation = self.fc(combined_heads)\n",
    "\n",
    "        return final_representation"
   ]
  },
  {
   "cell_type": "code",
   "execution_count": 15,
   "metadata": {},
   "outputs": [],
   "source": [
    "multihead_attention = MultiHeadAttention(32, 65, 512)"
   ]
  },
  {
   "cell_type": "code",
   "execution_count": 16,
   "metadata": {},
   "outputs": [
    {
     "data": {
      "text/plain": [
       "torch.Size([5, 65, 512])"
      ]
     },
     "execution_count": 16,
     "metadata": {},
     "output_type": "execute_result"
    }
   ],
   "source": [
    "multihead_attention(patchified).shape"
   ]
  },
  {
   "cell_type": "code",
   "execution_count": 17,
   "metadata": {},
   "outputs": [],
   "source": [
    "class MLP(nn.Sequential):\n",
    "    def __init__(self, *args):\n",
    "        super(MLP, self).__init__(*args)\n",
    "\n",
    "class Encoder(nn.Sequential):\n",
    "    def __init__(self, *args):\n",
    "        super(Encoder, self).__init__(*args)"
   ]
  },
  {
   "cell_type": "code",
   "execution_count": 18,
   "metadata": {},
   "outputs": [],
   "source": [
    "class TransformerEncoder(nn.Module):\n",
    "    \"\"\"\n",
    "    Transformer Encoder\n",
    "\n",
    "    Parameters\n",
    "    ----------\n",
    "    num_heads: int\n",
    "        The number of attention heads to employ.\n",
    "\n",
    "    sequence_length: int\n",
    "        The length of the sequence, i.e., the number of image patches.\n",
    "\n",
    "    embed_dim: int\n",
    "        The output embedding dimension of the attention module.\n",
    "\n",
    "    hidden_size: int\n",
    "        The hidden size of the MLP layer.\n",
    "\n",
    "    Returns\n",
    "    -------\n",
    "    z_l: torch.Tensor\n",
    "        The normalized output of the final dense layer in the transformer encoder.\n",
    "    \"\"\"\n",
    "    \n",
    "    def __init__(\n",
    "        self, num_heads: int, sequence_length: int, embed_dim: int, \n",
    "        hidden_size: int, dropout_probability: float\n",
    "        ) -> torch.Tensor:\n",
    "\n",
    "        super(TransformerEncoder, self).__init__()\n",
    "\n",
    "        self.multihead_attention = MultiHeadAttention(num_heads, sequence_length, embed_dim)\n",
    "\n",
    "        self.layer_norm = nn.LayerNorm(embed_dim)\n",
    "\n",
    "        self.mlp = MLP(\n",
    "            nn.Linear(embed_dim, hidden_size),\n",
    "            nn.Dropout(p=dropout_probability),\n",
    "            nn.GELU(),\n",
    "            nn.Linear(hidden_size, embed_dim),\n",
    "            nn.Dropout(p=dropout_probability)\n",
    "        )\n",
    "\n",
    "    def forward(self, x):\n",
    "        normalized_x = self.layer_norm(x)\n",
    "        z = self.multihead_attention(normalized_x) + x\n",
    "\n",
    "        normalized_z = self.layer_norm(z)\n",
    "        z = self.mlp(normalized_z) + z\n",
    "\n",
    "        return z "
   ]
  },
  {
   "cell_type": "code",
   "execution_count": 19,
   "metadata": {},
   "outputs": [
    {
     "data": {
      "text/plain": [
       "torch.Size([5, 65, 512])"
      ]
     },
     "execution_count": 19,
     "metadata": {},
     "output_type": "execute_result"
    }
   ],
   "source": [
    "encoder = TransformerEncoder(32, 65, 512, 64, 0)\n",
    "\n",
    "encoder(patchified).shape"
   ]
  },
  {
   "cell_type": "code",
   "execution_count": 20,
   "metadata": {},
   "outputs": [],
   "source": [
    "class VisionTransformer(nn.Module):\n",
    "    \"\"\"\n",
    "    An implementation of the Vision Transformer from \n",
    "    `AN IMAGE IS WORTH 16X16 WORDS: TRANSFORMERS FOR IMAGE RECOGNITION AT SCALE`.(https://arxiv.org/abs/2010.11929)\n",
    "\n",
    "    Parameters\n",
    "    ----------\n",
    "    patch_size: int\n",
    "        The size of each image patch.\n",
    "\n",
    "    num_channels: int\n",
    "        The number of input channels.\n",
    "\n",
    "    embed_dim: int\n",
    "        The dimension of the output embedding.\n",
    "\n",
    "    sequence_len: int\n",
    "        The length of the output sequence\n",
    "\n",
    "    num_heads: int\n",
    "        The number of self attention heads.\n",
    "\n",
    "    num_layers: int\n",
    "        The number of transformer encoder layers.\n",
    "    \n",
    "    hidden_size: int\n",
    "        The hidden size of the MLP heads.\n",
    "\n",
    "    dropout_probability: float\n",
    "        The probability of dropouts within each dense layer, together with the \n",
    "        combined embedding from position encoding \n",
    "        (excludes the dense layers within the query, key, value projections).\n",
    "\n",
    "    num_classes: int\n",
    "        The number of classes to be predicted.\n",
    "\n",
    "    Returns\n",
    "    -------\n",
    "    logits: torch.Tensor\n",
    "        The raw logits of the classification head,\n",
    "        projected from the final hidden state of the cls token.\n",
    "    \"\"\"\n",
    "\n",
    "    def __init__(\n",
    "        self, patch_size: int, num_channels: int, embed_dim: int, \n",
    "        sequence_len: int, num_heads: int, num_layers: int, hidden_size: int,\n",
    "        dropout_probability: int, num_classes: int\n",
    "        ) -> torch.Tensor:\n",
    "\n",
    "        super(VisionTransformer, self).__init__()\n",
    "\n",
    "        self.patchifier = Patchifier(patch_size, num_channels, embed_dim)\n",
    "        self.position_encoder = PositionEncoder(sequence_len, embed_dim, dropout_probability)\n",
    "        \n",
    "        self.encoder = Encoder(*[\n",
    "            TransformerEncoder(\n",
    "                num_heads, sequence_len, embed_dim, hidden_size, dropout_probability\n",
    "                ) for _ in range(num_layers)\n",
    "                ])\n",
    "\n",
    "        self.layer_norm = nn.LayerNorm(embed_dim)\n",
    "        self.classification_head = nn.Linear(embed_dim, num_classes)\n",
    "        \n",
    "    def forward(self, x):\n",
    "        patches = self.patchifier(x)\n",
    "        x = self.position_encoder(patches)\n",
    "        z = self.encoder(x)\n",
    "        logits = self.classification_head(z)\n",
    "\n",
    "        return logits"
   ]
  },
  {
   "cell_type": "code",
   "execution_count": 21,
   "metadata": {},
   "outputs": [],
   "source": [
    "vit = VisionTransformer(\n",
    "    patch_size=4, num_channels=3, embed_dim=768, sequence_len=65, \n",
    "    num_heads=12, num_layers=12, hidden_size=3072, dropout_probability=0,\n",
    "    num_classes=len(classes)\n",
    "    )\n",
    "\n",
    "z = vit(img)"
   ]
  },
  {
   "cell_type": "code",
   "execution_count": 22,
   "metadata": {},
   "outputs": [
    {
     "data": {
      "text/plain": [
       "torch.Size([5, 65, 10])"
      ]
     },
     "execution_count": 22,
     "metadata": {},
     "output_type": "execute_result"
    }
   ],
   "source": []
  },
  {
   "cell_type": "code",
   "execution_count": null,
   "metadata": {},
   "outputs": [],
   "source": []
  }
 ],
 "metadata": {
  "kernelspec": {
   "display_name": "Python 3",
   "language": "python",
   "name": "python3"
  },
  "language_info": {
   "codemirror_mode": {
    "name": "ipython",
    "version": 3
   },
   "file_extension": ".py",
   "mimetype": "text/x-python",
   "name": "python",
   "nbconvert_exporter": "python",
   "pygments_lexer": "ipython3",
   "version": "3.12.2"
  }
 },
 "nbformat": 4,
 "nbformat_minor": 2
}
